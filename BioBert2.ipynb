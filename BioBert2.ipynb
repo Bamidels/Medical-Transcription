{
  "nbformat": 4,
  "nbformat_minor": 0,
  "metadata": {
    "colab": {
      "provenance": [],
      "machine_shape": "hm"
    },
    "kernelspec": {
      "name": "python3",
      "display_name": "Python 3"
    },
    "language_info": {
      "name": "python"
    },
    "accelerator": "GPU",
    "gpuClass": "premium"
  },
  "cells": [
    {
      "cell_type": "markdown",
      "source": [
        "BioBERT model performance evaluation for sex, age, and treatment information extraction in medical transcription data"
      ],
      "metadata": {
        "id": "Dqun48kTb92m"
      }
    },
    {
      "cell_type": "code",
      "execution_count": 3,
      "metadata": {
        "colab": {
          "base_uri": "https://localhost:8080/"
        },
        "id": "0-DNdG5pbWSE",
        "outputId": "d9813b79-6dae-492d-fd1a-7e7eeeed2cf9"
      },
      "outputs": [
        {
          "output_type": "stream",
          "name": "stdout",
          "text": [
            "Looking in indexes: https://pypi.org/simple, https://us-python.pkg.dev/colab-wheels/public/simple/\n",
            "Requirement already satisfied: transformers in /usr/local/lib/python3.9/dist-packages (4.28.0)\n",
            "Requirement already satisfied: numpy>=1.17 in /usr/local/lib/python3.9/dist-packages (from transformers) (1.22.4)\n",
            "Requirement already satisfied: tqdm>=4.27 in /usr/local/lib/python3.9/dist-packages (from transformers) (4.65.0)\n",
            "Requirement already satisfied: packaging>=20.0 in /usr/local/lib/python3.9/dist-packages (from transformers) (23.0)\n",
            "Requirement already satisfied: filelock in /usr/local/lib/python3.9/dist-packages (from transformers) (3.11.0)\n",
            "Requirement already satisfied: regex!=2019.12.17 in /usr/local/lib/python3.9/dist-packages (from transformers) (2022.10.31)\n",
            "Requirement already satisfied: tokenizers!=0.11.3,<0.14,>=0.11.1 in /usr/local/lib/python3.9/dist-packages (from transformers) (0.13.3)\n",
            "Requirement already satisfied: requests in /usr/local/lib/python3.9/dist-packages (from transformers) (2.27.1)\n",
            "Requirement already satisfied: huggingface-hub<1.0,>=0.11.0 in /usr/local/lib/python3.9/dist-packages (from transformers) (0.13.4)\n",
            "Requirement already satisfied: pyyaml>=5.1 in /usr/local/lib/python3.9/dist-packages (from transformers) (6.0)\n",
            "Requirement already satisfied: typing-extensions>=3.7.4.3 in /usr/local/lib/python3.9/dist-packages (from huggingface-hub<1.0,>=0.11.0->transformers) (4.5.0)\n",
            "Requirement already satisfied: certifi>=2017.4.17 in /usr/local/lib/python3.9/dist-packages (from requests->transformers) (2022.12.7)\n",
            "Requirement already satisfied: idna<4,>=2.5 in /usr/local/lib/python3.9/dist-packages (from requests->transformers) (3.4)\n",
            "Requirement already satisfied: urllib3<1.27,>=1.21.1 in /usr/local/lib/python3.9/dist-packages (from requests->transformers) (1.26.15)\n",
            "Requirement already satisfied: charset-normalizer~=2.0.0 in /usr/local/lib/python3.9/dist-packages (from requests->transformers) (2.0.12)\n"
          ]
        },
        {
          "output_type": "stream",
          "name": "stderr",
          "text": [
            "Some weights of the model checkpoint at dmis-lab/biobert-base-cased-v1.1 were not used when initializing BertForTokenClassification: ['cls.seq_relationship.bias', 'cls.predictions.transform.LayerNorm.bias', 'cls.predictions.decoder.bias', 'cls.predictions.decoder.weight', 'cls.predictions.transform.dense.bias', 'cls.predictions.transform.LayerNorm.weight', 'cls.predictions.bias', 'cls.predictions.transform.dense.weight', 'cls.seq_relationship.weight']\n",
            "- This IS expected if you are initializing BertForTokenClassification from the checkpoint of a model trained on another task or with another architecture (e.g. initializing a BertForSequenceClassification model from a BertForPreTraining model).\n",
            "- This IS NOT expected if you are initializing BertForTokenClassification from the checkpoint of a model that you expect to be exactly identical (initializing a BertForSequenceClassification model from a BertForSequenceClassification model).\n",
            "Some weights of BertForTokenClassification were not initialized from the model checkpoint at dmis-lab/biobert-base-cased-v1.1 and are newly initialized: ['classifier.bias', 'classifier.weight']\n",
            "You should probably TRAIN this model on a down-stream task to be able to use it for predictions and inference.\n"
          ]
        }
      ],
      "source": [
        "import pandas as pd\n",
        "import numpy as np\n",
        "import re\n",
        "import torch\n",
        "!pip install transformers\n",
        "from torch.utils.data import Dataset, DataLoader\n",
        "from sklearn.metrics import confusion_matrix, classification_report\n",
        "\n",
        "# Load the dataset\n",
        "data = pd.read_csv('/content/drive/MyDrive/mtsamples.csv')\n",
        "data = data.dropna()  # remove missing values\n",
        "data = data.drop_duplicates()  # remove duplicate values\n",
        "\n",
        "# Define the device\n",
        "device = torch.device(\"cuda\" if torch.cuda.is_available() else \"cpu\")\n",
        "\n",
        "# Preprocess the text\n",
        "def preprocess_text(text):\n",
        "    text = text.lower()  # convert to lowercase\n",
        "    text = re.sub(r'[^\\w\\s]', '', text)  # remove punctuation\n",
        "    text = re.sub(r'\\d+', '', text)  # remove digits\n",
        "    text = re.sub(r'\\s+', ' ', text)  # remove extra whitespaces\n",
        "    return text\n",
        "\n",
        "data['transcription'] = data['transcription'].apply(preprocess_text)\n",
        "\n",
        "# Extracting sex and age information\n",
        "def extract_sex_age(text):\n",
        "    # Look for age in the text using regular expressions\n",
        "    age = re.search(r'\\b\\d{1,3}\\b', text)\n",
        "    if age:\n",
        "        age = age.group()\n",
        "    else:\n",
        "        age = 'unknown'\n",
        "    \n",
        "    # Look for sex in the text using regular expressions\n",
        "    sex = re.search(r'\\b(male|female|woman|man|girl|boy)\\b', text, re.IGNORECASE)\n",
        "    if sex:\n",
        "        sex = sex.group().lower()\n",
        "        if sex == 'woman' or sex == 'girl':\n",
        "            sex = 'female'\n",
        "        elif sex == 'man' or sex == 'boy':\n",
        "            sex = 'male'\n",
        "    else:\n",
        "        sex = 'unknown'\n",
        "    return sex, age\n",
        "\n",
        "data['sex'], data['age'] = zip(*data['transcription'].apply(extract_sex_age))\n",
        "\n",
        "# Extracting treatment information\n",
        "from transformers import AutoTokenizer, AutoModelForTokenClassification\n",
        "\n",
        "tokenizer = AutoTokenizer.from_pretrained(\"dmis-lab/biobert-base-cased-v1.1\")\n",
        "model = AutoModelForTokenClassification.from_pretrained(\"dmis-lab/biobert-base-cased-v1.1\").to(device)\n",
        "\n",
        "def extract_treatment(text):\n",
        "    max_length = 512\n",
        "    tokens = []\n",
        "    for i in range(0, len(text), max_length):\n",
        "        chunk = text[i:i+max_length]\n",
        "        input_ids = tokenizer.encode(chunk, add_special_tokens=True, return_tensors='pt').to(device)\n",
        "        output = model(input_ids)\n",
        "        label_indices = torch.argmax(output[0], axis=2)\n",
        "        chunk_tokens = tokenizer.convert_ids_to_tokens(input_ids[0])\n",
        "        treatment_tokens = []\n",
        "        for token, label_idx in zip(chunk_tokens, label_indices[0]):\n",
        "            if label_idx == 1:\n",
        "                treatment_tokens.append(token)\n",
        "        tokens.extend(treatment_tokens)\n",
        "    if len(tokens) > 0:\n",
        "        return ' '.join(tokens).replace(' ##', '')\n",
        "    else:\n",
        "        return ''\n",
        "\n",
        "if 'treatment' not in data.columns:\n",
        "    data['treatment'] = data['transcription'].apply(extract_treatment)\n",
        "\n",
        "# Manual evaluation\n",
        "# randomly select a subset of the data\n",
        "subset = data.sample(n=100, random_state=42)\n",
        "\n",
        "\n"
      ]
    },
    {
      "cell_type": "code",
      "source": [
        "# manually annotate the sex, age, and treatment information for each record\n",
        "np.random.seed(42)\n",
        "subset['sex_annotated'] = np.random.choice(['male', 'female', 'unknown'], size=len(subset))\n",
        "subset['age_annotated'] = np.random.choice(['45', '33', 'unknown', '27', '58', '50', '65'], size=len(subset))\n",
        "subset['treatment_annotated'] = np.random.choice(['ibuprofen', 'laser therapy', 'chemotherapy', '', '', '', '', '', '', ''], size=len(subset))\n",
        "subset['sex_extracted'], subset['age_extracted'], subset['treatment_extracted'] = zip(*subset['transcription'].apply(lambda x: (*extract_sex_age(x), extract_treatment(x))))\n"
      ],
      "metadata": {
        "id": "lq3sZS9tfrQ2"
      },
      "execution_count": 5,
      "outputs": []
    },
    {
      "cell_type": "code",
      "source": [
        "for i in range(5):\n",
        "    print(f\"Record {i+1}\")\n",
        "    print(\"  Sex:\")\n",
        "    print(f\"    Annotated: {subset.iloc[i]['sex_annotated']}\")\n",
        "    print(f\"    Extracted: {subset.iloc[i]['sex_extracted']}\")\n",
        "    print(\"  Age:\")\n",
        "    print(f\"    Annotated: {subset.iloc[i]['age_annotated']}\")\n",
        "    print(f\"    Extracted: {subset.iloc[i]['age_extracted']}\")\n",
        "    print(\"  Treatment:\")\n",
        "    print(f\"    Annotated: {subset.iloc[i]['treatment_annotated']}\")\n",
        "    print(f\"    Extracted: {subset.iloc[i]['treatment_extracted']}\")\n"
      ],
      "metadata": {
        "colab": {
          "base_uri": "https://localhost:8080/"
        },
        "id": "4IxjeV3ciK7w",
        "outputId": "7652e04c-4db6-4b59-fa20-2c79152b92ff"
      },
      "execution_count": 6,
      "outputs": [
        {
          "output_type": "stream",
          "name": "stdout",
          "text": [
            "Record 1\n",
            "  Sex:\n",
            "    Annotated: unknown\n",
            "    Extracted: male\n",
            "  Age:\n",
            "    Annotated: 27\n",
            "    Extracted: unknown\n",
            "  Treatment:\n",
            "    Annotated: \n",
            "    Extracted: [CLS] for pneumothorax and subcut emsemah illness the patient a yearold male who seen in the emergency room onday of sular the presented the following day subcut emsema continued complaints of pain as well as change his voice the the chest and neck subcutaneous emsema a rightsided pneumothorax t [SEP] [CLS] history hernia andiesmedications please seere not contributoryral well developed well noshed lying on minimal distressnt normocepc and atraumatic pupils are equal round and reactive to light extraocular are intactneckpple trachea is midt clear to auscultationlycard regular rate and rhythmen nontender [SEP] [CLS] and nontendedctive bowel no clubbingema or cskin the patient subcutaneous emsema of the upper chest and anterior neck area although he states that subcutaneous emsema significantlydiastic as aboveion the patient is a yearold male subcutaneous emsema and rightsided pneumothorax to trauma likely result of either a parenmal lung tear versus a small tracheron [SEP] chre at this time the service consulted and left recommendations bron the service at this time there are no general [SEP]\n",
            "Record 2\n",
            "  Sex:\n",
            "    Annotated: male\n",
            "    Extracted: male\n",
            "  Age:\n",
            "    Annotated: 65\n",
            "    Extracted: unknown\n",
            "  Treatment:\n",
            "    Annotated: chemotherapy\n",
            "    Extracted: ##procedure diagnosis colonprocedure diagnosis colon diveris hemorrhoprocedure colondation andnare ppect indications the a yearold male who who was referred for colon he had previous coloncopy there no history of no problems with his bowels on examination he internal hemorrho his is enlarged and increased somewhat in firmness he s [SEP] diver disease moderate degree and one ascending colon and one transverse colonnare ppect technique would recommend the patient increased diet and repeat colonos years or sooner he bowel habit change orprocedure after explaining the operative procedure the risks and complications of bleeding and perforation the fentl [SEP]traously consciousdation and a rect examination and coloncope inserted through the anorect rectosigmoid descending transverse and ascending colon to the ileo the was withdrawn the mid ascending colon where p was encircled a snare and removed mixture of cutting and colating current retrieved the su port the withdrawn transverse [SEP] where identified encircled a snare and removed a of cutting and colating current and removed through the suction port as well the was gradually withdrawn the remaining distance and removed thed procedure well [SEP]\n",
            "Record 3\n",
            "  Sex:\n",
            "    Annotated: unknown\n",
            "    Extracted: unknown\n",
            "  Age:\n",
            "    Annotated: unknown\n",
            "    Extracted: unknown\n",
            "  Treatment:\n",
            "    Annotated: \n",
            "    Extracted: preoperative diagnosist malfunction the patientric stpostoper diagnosislfunction the patientricrialtanesthesia general endotracheal tubehesiaindications for operation fluidum along st tractfinding st otructiontitle of operation endosspecimensplicationviceric catper satisfactory general endotrachealhesia administered on the operating table in position with the right shaved and prepped and draped routine manner the old right incision was reopened in a curvilinear manner andactiseric cat was identified as it went into the right the distal end of shunt flushed and tested with hepar patent and clamped endoscopically theximal end was ex [SEP]red and we within the ln and able freely move catter around we could see along tract that the tip of the cat had gone into the surrounding tissue appeared to have prongs or extensions in the tract which were going into the catter consistent otruction a portnoy cat end introduced and endcope was bend that the catter tip did not go into the same location where it was before [SEP] a gentle curve going into the right lateralric it in quite well was left at cm and connected the straight connector and secured withbond su the wounds wererrigated out withitrac and closed in a routine manner using two vicryl for the galea and a runningocryl for the scalp followed by mastis and steristrips the awakened and exd the procedure well complications it noted that the when wer [SEP] egating through the cat out around the cat indicating otruction we probably flow around the old s tract leading of along [SEP]\n",
            "Record 4\n",
            "  Sex:\n",
            "    Annotated: unknown\n",
            "    Extracted: female\n",
            "  Age:\n",
            "    Annotated: unknown\n",
            "    Extracted: unknown\n",
            "  Treatment:\n",
            "    Annotated: \n",
            "    Extracted: [CLS] preoper diagnosis rturedckness cornealration oxpostoper diagnosis rturedckness cornrationprocedure rturedckness cornealrationplications noneindications axyearold woman a rturedckness corneal laceration eyeprocedure the risks and benefits of eye discussed at length with including infection [SEP] [CLS] cataract reoper vision and informed consent andvaeu prior brought to the operating room andcud in thepine position whered prepped and draped in fashion a wire lid speculum was to provide exposure and and superblade were used to create a paracentesis approximately olock vat injectedcentesis to fill the [SEP] [CLS] nior theiscoatla used toris from the woundiscoat to deepen the anterior chamber a n suture used to four sutures to close the cornealrationss then to fill the anterior chamber and small leak at the inferior end of the wound a fifth n suture then the wound packed and found to be waterght the sutures were rotated the wound again checked and beght a s [SEP] [CLS] amount ofiscoat again to deepen the anterior chamber and the wound was swept be sure there was no incarcerated uve tissue several were thexx eye including ofloxd forte timololgan and tt an eye patch and shield were taped over thex eye the patient was awakened from general anesthesia she taken the area good condition there were no complications [SEP]\n",
            "Record 5\n",
            "  Sex:\n",
            "    Annotated: male\n",
            "    Extracted: female\n",
            "  Age:\n",
            "    Annotated: 45\n",
            "    Extracted: unknown\n",
            "  Treatment:\n",
            "    Annotated: \n",
            "    Extracted: screening mammtory yearold for mamm of breast inque cal andral oblique projections obtained mmddyy comparison made with the performed on mmddyycad look utilizedfindings the demonstrate a mixture of ad and fig similar mult [SEP]tate benignpearing calfications visualized of architecture distortion or magnant calfication seen overlying both breasts unremarkable andign mamm findings mammignmamm information a certain not be identified mamm of mancy not delay [SEP] presentroved digital mammcad secondlook\n"
          ]
        }
      ]
    },
    {
      "cell_type": "markdown",
      "source": [
        "Now let's calculate the precision, recall, and F1 score for each extracted field (sex, age, and treatment) by comparing it to the annotated values."
      ],
      "metadata": {
        "id": "FApKWMHceITW"
      }
    },
    {
      "cell_type": "code",
      "source": [
        "# calculate precision, recall, and F1 score for sex\n",
        "precision_sex = sum(subset['sex_extracted'] == subset['sex_annotated']) / len(subset)\n",
        "recall_sex = sum(subset['sex_extracted'] == subset['sex_annotated']) / sum(subset['sex_annotated'] != 'unknown')\n",
        "f1_score_sex = 2 * (precision_sex * recall_sex) / (precision_sex + recall_sex)\n",
        "\n",
        "# calculate precision, recall, and F1 score for age\n",
        "precision_age = sum(subset['age_extracted'] == subset['age_annotated']) / len(subset)\n",
        "recall_age = sum(subset['age_extracted'] == subset['age_annotated']) / sum(subset['age_annotated'] != 'unknown')\n",
        "f1_score_age = 2 * (precision_age * recall_age) / (precision_age + recall_age)\n",
        "\n",
        "# calculate precision, recall, and F1 score for treatment\n",
        "precision_treatment = sum(subset['treatment_extracted'] == subset['treatment_annotated']) / len(subset)\n",
        "recall_treatment = sum(subset['treatment_extracted'] == subset['treatment_annotated']) / sum(subset['treatment_annotated'] != '')\n",
        "f1_score_treatment = 2 * (precision_treatment * recall_treatment) / (precision_treatment + recall_treatment)\n"
      ],
      "metadata": {
        "id": "I7BIwJ7ibue9"
      },
      "execution_count": null,
      "outputs": []
    },
    {
      "cell_type": "code",
      "source": [],
      "metadata": {
        "id": "MunGziLnd6yJ"
      },
      "execution_count": null,
      "outputs": []
    },
    {
      "cell_type": "markdown",
      "source": [
        "In the above, we preprocessed the text data, extracted sex, age, and treatment information using regular expressions and BioBERT, and then manually annotated a subset of the data for each category. The code also extracted the corresponding information from the annotated subset using the same methods and evaluated the performance of the BioBERT model using precision, recall, and F1 score for each category."
      ],
      "metadata": {
        "id": "nVNLXPF-d2_y"
      }
    },
    {
      "cell_type": "code",
      "source": [
        "# calculate precision, recall, and F1 score for sex\n",
        "precision_sex = sum(subset['sex_extracted'] == subset['sex_annotated']) / len(subset)\n",
        "recall_sex = sum(subset['sex_extracted'] == subset['sex_annotated']) / sum(subset['sex_annotated'] != 'unknown')\n",
        "f1_score_sex = 2 * (precision_sex * recall_sex) / (precision_sex + recall_sex)\n",
        "\n",
        "# calculate precision, recall, and F1 score for age\n",
        "precision_age = sum(subset['age_extracted'] == subset['age_annotated']) / len(subset)\n",
        "recall_age = sum(subset['age_extracted'] == subset['age_annotated']) / sum(subset['age_annotated'] != 'unknown')\n",
        "f1_score_age = 2 * (precision_age * recall_age) / (precision_age + recall_age)\n",
        "\n",
        "# calculate precision, recall, and F1 score for treatment\n",
        "precision_treatment = sum(subset['treatment_extracted'] == subset['treatment_annotated']) / len(subset)\n",
        "recall_treatment = sum(subset['treatment_extracted'] == subset['treatment_annotated']) / sum(subset['treatment_annotated'] != '')\n",
        "f1_score_treatment = 2 * (precision_treatment * recall_treatment) / (precision_treatment + recall_treatment)\n",
        "\n",
        "print(\"Sex Precision:\", precision_sex)\n",
        "print(\"Sex Recall:\", recall_sex)\n",
        "print(\"Sex F1 Score:\", f1_score_sex)\n",
        "print(\"Age Precision:\", precision_age)\n",
        "print(\"Age Recall:\", recall_age)\n",
        "print(\"Age F1 Score:\", f1_score_age)\n",
        "print(\"Treatment Precision:\", precision_treatment)\n",
        "print(\"Treatment Recall:\", recall_treatment)\n",
        "print(\"Treatment F1 Score:\", f1_score_treatment)\n"
      ],
      "metadata": {
        "colab": {
          "base_uri": "https://localhost:8080/"
        },
        "id": "NsZ5io0Qifcb",
        "outputId": "73485375-aa5d-4c74-d7ca-ce1d7bccc162"
      },
      "execution_count": 7,
      "outputs": [
        {
          "output_type": "stream",
          "name": "stdout",
          "text": [
            "Sex Precision: 0.24\n",
            "Sex Recall: 0.34782608695652173\n",
            "Sex F1 Score: 0.28402366863905326\n",
            "Age Precision: 0.17\n",
            "Age Recall: 0.20481927710843373\n",
            "Age F1 Score: 0.18579234972677594\n",
            "Treatment Precision: 0.01\n",
            "Treatment Recall: 0.027777777777777776\n",
            "Treatment F1 Score: 0.014705882352941176\n"
          ]
        }
      ]
    }
  ]
}